{
 "cells": [
  {
   "cell_type": "markdown",
   "id": "406d74e7",
   "metadata": {},
   "source": [
    "# Intern Name : Ashutosh Bafna"
   ]
  },
  {
   "cell_type": "markdown",
   "id": "f689fdfb",
   "metadata": {},
   "source": [
    "The Sparks Foundation - Data Science & Business Analytics Internship"
   ]
  },
  {
   "cell_type": "markdown",
   "id": "5430af5b",
   "metadata": {},
   "source": [
    "Task : Prediction using decision tree algorithm "
   ]
  },
  {
   "cell_type": "markdown",
   "id": "254fc971",
   "metadata": {},
   "source": [
    "Problem statement : if any new data is feed it will be able to predict class accordingly "
   ]
  },
  {
   "cell_type": "code",
   "execution_count": 73,
   "id": "f0a1147e",
   "metadata": {},
   "outputs": [],
   "source": [
    "import pandas as pd\n",
    "import numpy as np"
   ]
  },
  {
   "cell_type": "code",
   "execution_count": 74,
   "id": "0ab39a1b",
   "metadata": {},
   "outputs": [],
   "source": [
    "iris = pd.read_csv(r\"D:\\SPARK INTERNSHIP\\task_dt\\Iris.csv\")  #dataset "
   ]
  },
  {
   "cell_type": "code",
   "execution_count": 75,
   "id": "e9624e37",
   "metadata": {},
   "outputs": [
    {
     "data": {
      "text/html": [
       "<div>\n",
       "<style scoped>\n",
       "    .dataframe tbody tr th:only-of-type {\n",
       "        vertical-align: middle;\n",
       "    }\n",
       "\n",
       "    .dataframe tbody tr th {\n",
       "        vertical-align: top;\n",
       "    }\n",
       "\n",
       "    .dataframe thead th {\n",
       "        text-align: right;\n",
       "    }\n",
       "</style>\n",
       "<table border=\"1\" class=\"dataframe\">\n",
       "  <thead>\n",
       "    <tr style=\"text-align: right;\">\n",
       "      <th></th>\n",
       "      <th>Id</th>\n",
       "      <th>SepalLengthCm</th>\n",
       "      <th>SepalWidthCm</th>\n",
       "      <th>PetalLengthCm</th>\n",
       "      <th>PetalWidthCm</th>\n",
       "      <th>Species</th>\n",
       "    </tr>\n",
       "  </thead>\n",
       "  <tbody>\n",
       "    <tr>\n",
       "      <th>0</th>\n",
       "      <td>1</td>\n",
       "      <td>5.1</td>\n",
       "      <td>3.5</td>\n",
       "      <td>1.4</td>\n",
       "      <td>0.2</td>\n",
       "      <td>Iris-setosa</td>\n",
       "    </tr>\n",
       "    <tr>\n",
       "      <th>1</th>\n",
       "      <td>2</td>\n",
       "      <td>4.9</td>\n",
       "      <td>3.0</td>\n",
       "      <td>1.4</td>\n",
       "      <td>0.2</td>\n",
       "      <td>Iris-setosa</td>\n",
       "    </tr>\n",
       "    <tr>\n",
       "      <th>2</th>\n",
       "      <td>3</td>\n",
       "      <td>4.7</td>\n",
       "      <td>3.2</td>\n",
       "      <td>1.3</td>\n",
       "      <td>0.2</td>\n",
       "      <td>Iris-setosa</td>\n",
       "    </tr>\n",
       "    <tr>\n",
       "      <th>3</th>\n",
       "      <td>4</td>\n",
       "      <td>4.6</td>\n",
       "      <td>3.1</td>\n",
       "      <td>1.5</td>\n",
       "      <td>0.2</td>\n",
       "      <td>Iris-setosa</td>\n",
       "    </tr>\n",
       "    <tr>\n",
       "      <th>4</th>\n",
       "      <td>5</td>\n",
       "      <td>5.0</td>\n",
       "      <td>3.6</td>\n",
       "      <td>1.4</td>\n",
       "      <td>0.2</td>\n",
       "      <td>Iris-setosa</td>\n",
       "    </tr>\n",
       "  </tbody>\n",
       "</table>\n",
       "</div>"
      ],
      "text/plain": [
       "   Id  SepalLengthCm  SepalWidthCm  PetalLengthCm  PetalWidthCm      Species\n",
       "0   1            5.1           3.5            1.4           0.2  Iris-setosa\n",
       "1   2            4.9           3.0            1.4           0.2  Iris-setosa\n",
       "2   3            4.7           3.2            1.3           0.2  Iris-setosa\n",
       "3   4            4.6           3.1            1.5           0.2  Iris-setosa\n",
       "4   5            5.0           3.6            1.4           0.2  Iris-setosa"
      ]
     },
     "execution_count": 75,
     "metadata": {},
     "output_type": "execute_result"
    }
   ],
   "source": [
    "iris.head()"
   ]
  },
  {
   "cell_type": "code",
   "execution_count": 76,
   "id": "1bd4e853",
   "metadata": {},
   "outputs": [
    {
     "data": {
      "text/plain": [
       "array(['Iris-setosa', 'Iris-versicolor', 'Iris-virginica'], dtype=object)"
      ]
     },
     "execution_count": 76,
     "metadata": {},
     "output_type": "execute_result"
    }
   ],
   "source": [
    "iris.Species.unique()"
   ]
  },
  {
   "cell_type": "code",
   "execution_count": 77,
   "id": "a924e33b",
   "metadata": {},
   "outputs": [
    {
     "data": {
      "text/plain": [
       "Id               0\n",
       "SepalLengthCm    0\n",
       "SepalWidthCm     0\n",
       "PetalLengthCm    0\n",
       "PetalWidthCm     0\n",
       "Species          0\n",
       "dtype: int64"
      ]
     },
     "execution_count": 77,
     "metadata": {},
     "output_type": "execute_result"
    }
   ],
   "source": [
    "iris.isna().sum() #check is their any null value "
   ]
  },
  {
   "cell_type": "code",
   "execution_count": 78,
   "id": "04889921",
   "metadata": {},
   "outputs": [],
   "source": [
    "#no_null values "
   ]
  },
  {
   "cell_type": "code",
   "execution_count": 79,
   "id": "d6ecc8df",
   "metadata": {},
   "outputs": [],
   "source": [
    "iris = iris.drop(['Id'],axis=1) #drop id column "
   ]
  },
  {
   "cell_type": "code",
   "execution_count": 80,
   "id": "66cd317d",
   "metadata": {},
   "outputs": [
    {
     "data": {
      "text/html": [
       "<div>\n",
       "<style scoped>\n",
       "    .dataframe tbody tr th:only-of-type {\n",
       "        vertical-align: middle;\n",
       "    }\n",
       "\n",
       "    .dataframe tbody tr th {\n",
       "        vertical-align: top;\n",
       "    }\n",
       "\n",
       "    .dataframe thead th {\n",
       "        text-align: right;\n",
       "    }\n",
       "</style>\n",
       "<table border=\"1\" class=\"dataframe\">\n",
       "  <thead>\n",
       "    <tr style=\"text-align: right;\">\n",
       "      <th></th>\n",
       "      <th>SepalLengthCm</th>\n",
       "      <th>SepalWidthCm</th>\n",
       "      <th>PetalLengthCm</th>\n",
       "      <th>PetalWidthCm</th>\n",
       "      <th>Species</th>\n",
       "    </tr>\n",
       "  </thead>\n",
       "  <tbody>\n",
       "    <tr>\n",
       "      <th>0</th>\n",
       "      <td>5.1</td>\n",
       "      <td>3.5</td>\n",
       "      <td>1.4</td>\n",
       "      <td>0.2</td>\n",
       "      <td>Iris-setosa</td>\n",
       "    </tr>\n",
       "    <tr>\n",
       "      <th>1</th>\n",
       "      <td>4.9</td>\n",
       "      <td>3.0</td>\n",
       "      <td>1.4</td>\n",
       "      <td>0.2</td>\n",
       "      <td>Iris-setosa</td>\n",
       "    </tr>\n",
       "    <tr>\n",
       "      <th>2</th>\n",
       "      <td>4.7</td>\n",
       "      <td>3.2</td>\n",
       "      <td>1.3</td>\n",
       "      <td>0.2</td>\n",
       "      <td>Iris-setosa</td>\n",
       "    </tr>\n",
       "    <tr>\n",
       "      <th>3</th>\n",
       "      <td>4.6</td>\n",
       "      <td>3.1</td>\n",
       "      <td>1.5</td>\n",
       "      <td>0.2</td>\n",
       "      <td>Iris-setosa</td>\n",
       "    </tr>\n",
       "    <tr>\n",
       "      <th>4</th>\n",
       "      <td>5.0</td>\n",
       "      <td>3.6</td>\n",
       "      <td>1.4</td>\n",
       "      <td>0.2</td>\n",
       "      <td>Iris-setosa</td>\n",
       "    </tr>\n",
       "  </tbody>\n",
       "</table>\n",
       "</div>"
      ],
      "text/plain": [
       "   SepalLengthCm  SepalWidthCm  PetalLengthCm  PetalWidthCm      Species\n",
       "0            5.1           3.5            1.4           0.2  Iris-setosa\n",
       "1            4.9           3.0            1.4           0.2  Iris-setosa\n",
       "2            4.7           3.2            1.3           0.2  Iris-setosa\n",
       "3            4.6           3.1            1.5           0.2  Iris-setosa\n",
       "4            5.0           3.6            1.4           0.2  Iris-setosa"
      ]
     },
     "execution_count": 80,
     "metadata": {},
     "output_type": "execute_result"
    }
   ],
   "source": [
    "iris.head()"
   ]
  },
  {
   "cell_type": "code",
   "execution_count": 81,
   "id": "0ae3ba1d",
   "metadata": {},
   "outputs": [],
   "source": [
    "from sklearn.model_selection import train_test_split # Splitting the dataset into training and test set.  "
   ]
  },
  {
   "cell_type": "code",
   "execution_count": 82,
   "id": "d7331dda",
   "metadata": {},
   "outputs": [],
   "source": [
    "iris_train, iris_test = train_test_split(iris, test_size=0.25) "
   ]
  },
  {
   "cell_type": "code",
   "execution_count": 83,
   "id": "40829b66",
   "metadata": {},
   "outputs": [],
   "source": [
    "iris_train_x = iris_train.iloc[:,0:-1]\n",
    "iris_train_y = iris_train.iloc[:,-1]"
   ]
  },
  {
   "cell_type": "code",
   "execution_count": 84,
   "id": "2fd25c54",
   "metadata": {},
   "outputs": [],
   "source": [
    "iris_test_x = iris_test.iloc[:,0:-1]\n",
    "iris_test_y = iris_test.iloc[:,-1]"
   ]
  },
  {
   "cell_type": "code",
   "execution_count": 85,
   "id": "9de54d06",
   "metadata": {},
   "outputs": [],
   "source": [
    "#spliting done "
   ]
  },
  {
   "cell_type": "code",
   "execution_count": 86,
   "id": "af66940e",
   "metadata": {},
   "outputs": [],
   "source": [
    "from sklearn.tree import DecisionTreeClassifier \n",
    "dt = DecisionTreeClassifier() "
   ]
  },
  {
   "cell_type": "code",
   "execution_count": 87,
   "id": "79f049fa",
   "metadata": {},
   "outputs": [],
   "source": [
    "#Fitting Decision Tree classifier to the training set  "
   ]
  },
  {
   "cell_type": "code",
   "execution_count": 88,
   "id": "7e718a44",
   "metadata": {},
   "outputs": [
    {
     "data": {
      "text/plain": [
       "DecisionTreeClassifier()"
      ]
     },
     "execution_count": 88,
     "metadata": {},
     "output_type": "execute_result"
    }
   ],
   "source": [
    "dt.fit(iris_train_x, iris_train_y)"
   ]
  },
  {
   "cell_type": "code",
   "execution_count": 89,
   "id": "14b54b4d",
   "metadata": {},
   "outputs": [],
   "source": [
    "#Predicting the test set result  "
   ]
  },
  {
   "cell_type": "code",
   "execution_count": 90,
   "id": "f817808d",
   "metadata": {},
   "outputs": [],
   "source": [
    "pred_dt = dt.predict(iris_test_x)"
   ]
  },
  {
   "cell_type": "markdown",
   "id": "54d78742",
   "metadata": {},
   "source": [
    "# model evalution "
   ]
  },
  {
   "cell_type": "code",
   "execution_count": 91,
   "id": "fa50e91c",
   "metadata": {},
   "outputs": [],
   "source": [
    "from sklearn.metrics import confusion_matrix"
   ]
  },
  {
   "cell_type": "code",
   "execution_count": 92,
   "id": "9117276a",
   "metadata": {},
   "outputs": [
    {
     "data": {
      "text/plain": [
       "array([[11,  0,  0],\n",
       "       [ 0, 15,  1],\n",
       "       [ 0,  2,  9]], dtype=int64)"
      ]
     },
     "execution_count": 92,
     "metadata": {},
     "output_type": "execute_result"
    }
   ],
   "source": [
    "tab_dt = confusion_matrix(iris_test_y,pred_dt)\n",
    "tab_dt"
   ]
  },
  {
   "cell_type": "code",
   "execution_count": 93,
   "id": "7bdd6248",
   "metadata": {},
   "outputs": [],
   "source": [
    "from sklearn.metrics import accuracy_score, precision_score"
   ]
  },
  {
   "cell_type": "code",
   "execution_count": 94,
   "id": "6ea74660",
   "metadata": {},
   "outputs": [],
   "source": [
    "accuracy =accuracy_score(iris_test_y, pred_dt)*100\n",
    "precision = precision_score(iris_test_y, pred_dt,average='weighted')*100 "
   ]
  },
  {
   "cell_type": "code",
   "execution_count": 95,
   "id": "cb6a3fd8",
   "metadata": {},
   "outputs": [],
   "source": [
    "from sklearn.metrics import recall_score, f1_score, roc_auc_score,roc_curve"
   ]
  },
  {
   "cell_type": "code",
   "execution_count": 96,
   "id": "b1e5d023",
   "metadata": {},
   "outputs": [],
   "source": [
    "recall=recall_score(iris_test_y, pred_dt,average='weighted')\n",
    "\n",
    "f1=f1_score(iris_test_y, pred_dt,average='weighted') "
   ]
  },
  {
   "cell_type": "code",
   "execution_count": 97,
   "id": "0d27890f",
   "metadata": {},
   "outputs": [
    {
     "name": "stdout",
     "output_type": "stream",
     "text": [
      "accuracy of model : 92.10526315789474\n",
      "precision of model : 92.15170278637771\n",
      "recall_score of model : 0.9210526315789473\n",
      "f1_score of model : 0.920369104579631\n"
     ]
    }
   ],
   "source": [
    "print(\"accuracy of model :\" ,accuracy )\n",
    "print(\"precision of model :\", precision)\n",
    "print(\"recall_score of model :\", recall)\n",
    "print(\"f1_score of model :\" ,f1)"
   ]
  },
  {
   "cell_type": "markdown",
   "id": "8ea74122",
   "metadata": {},
   "source": [
    "Conclusion : Model is build and tested ; Accuracy and precision of model around 92% "
   ]
  },
  {
   "cell_type": "markdown",
   "id": "6dfa4c86",
   "metadata": {},
   "source": [
    "Thank you "
   ]
  }
 ],
 "metadata": {
  "kernelspec": {
   "display_name": "Python 3 (ipykernel)",
   "language": "python",
   "name": "python3"
  },
  "language_info": {
   "codemirror_mode": {
    "name": "ipython",
    "version": 3
   },
   "file_extension": ".py",
   "mimetype": "text/x-python",
   "name": "python",
   "nbconvert_exporter": "python",
   "pygments_lexer": "ipython3",
   "version": "3.9.7"
  }
 },
 "nbformat": 4,
 "nbformat_minor": 5
}
