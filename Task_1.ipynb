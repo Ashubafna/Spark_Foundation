{
 "cells": [
  {
   "cell_type": "markdown",
   "id": "05fbec4c",
   "metadata": {},
   "source": [
    "# Intern Name : Ashutosh Bafna"
   ]
  },
  {
   "cell_type": "markdown",
   "id": "1940f995",
   "metadata": {},
   "source": [
    "The Sparks Foundation - Data Science & Business Analytics Internship"
   ]
  },
  {
   "cell_type": "markdown",
   "id": "51094e4f",
   "metadata": {},
   "source": [
    "Task 1 : Prediction using Supervised Machine Learning"
   ]
  },
  {
   "cell_type": "markdown",
   "id": "31cce133",
   "metadata": {},
   "source": [
    "Problem Statement : Predict the percentage of student based on number of study hours"
   ]
  },
  {
   "cell_type": "code",
   "execution_count": 1,
   "id": "f5c315ec",
   "metadata": {},
   "outputs": [],
   "source": [
    "#Importing required Libraries "
   ]
  },
  {
   "cell_type": "code",
   "execution_count": 1,
   "id": "f7a13bec",
   "metadata": {},
   "outputs": [],
   "source": [
    "import pandas as pd\n",
    "import numpy as np"
   ]
  },
  {
   "cell_type": "code",
   "execution_count": 2,
   "id": "b53c5846",
   "metadata": {},
   "outputs": [],
   "source": [
    "#reading the data file "
   ]
  },
  {
   "cell_type": "code",
   "execution_count": 3,
   "id": "4441e38d",
   "metadata": {},
   "outputs": [
    {
     "data": {
      "text/html": [
       "<div>\n",
       "<style scoped>\n",
       "    .dataframe tbody tr th:only-of-type {\n",
       "        vertical-align: middle;\n",
       "    }\n",
       "\n",
       "    .dataframe tbody tr th {\n",
       "        vertical-align: top;\n",
       "    }\n",
       "\n",
       "    .dataframe thead th {\n",
       "        text-align: right;\n",
       "    }\n",
       "</style>\n",
       "<table border=\"1\" class=\"dataframe\">\n",
       "  <thead>\n",
       "    <tr style=\"text-align: right;\">\n",
       "      <th></th>\n",
       "      <th>Hours</th>\n",
       "      <th>Scores</th>\n",
       "    </tr>\n",
       "  </thead>\n",
       "  <tbody>\n",
       "    <tr>\n",
       "      <th>0</th>\n",
       "      <td>2.5</td>\n",
       "      <td>21</td>\n",
       "    </tr>\n",
       "    <tr>\n",
       "      <th>1</th>\n",
       "      <td>5.1</td>\n",
       "      <td>47</td>\n",
       "    </tr>\n",
       "    <tr>\n",
       "      <th>2</th>\n",
       "      <td>3.2</td>\n",
       "      <td>27</td>\n",
       "    </tr>\n",
       "    <tr>\n",
       "      <th>3</th>\n",
       "      <td>8.5</td>\n",
       "      <td>75</td>\n",
       "    </tr>\n",
       "    <tr>\n",
       "      <th>4</th>\n",
       "      <td>3.5</td>\n",
       "      <td>30</td>\n",
       "    </tr>\n",
       "  </tbody>\n",
       "</table>\n",
       "</div>"
      ],
      "text/plain": [
       "   Hours  Scores\n",
       "0    2.5      21\n",
       "1    5.1      47\n",
       "2    3.2      27\n",
       "3    8.5      75\n",
       "4    3.5      30"
      ]
     },
     "execution_count": 3,
     "metadata": {},
     "output_type": "execute_result"
    }
   ],
   "source": [
    "url = r\"https://raw.githubusercontent.com/AdiPersonalWorks/Random/master/student_scores%20-%20student_scores.csv\"\n",
    "stud_data = pd.read_csv(url)\n",
    "stud_data.head()"
   ]
  },
  {
   "cell_type": "code",
   "execution_count": 4,
   "id": "03b778c5",
   "metadata": {},
   "outputs": [],
   "source": [
    "#Data visualisation "
   ]
  },
  {
   "cell_type": "code",
   "execution_count": 5,
   "id": "1f854ce8",
   "metadata": {},
   "outputs": [
    {
     "data": {
      "image/png": "[encoded data removed]",
      "text/plain": [
       "<Figure size 432x288 with 1 Axes>"
      ]
     },
     "metadata": {
      "needs_background": "light"
     },
     "output_type": "display_data"
    }
   ],
   "source": [
    "import matplotlib.pyplot as plt\n",
    "stud_data.plot(x='Hours', y='Scores', style='o')  \n",
    "plt.title('Hours vs Percentage')  \n",
    "plt.xlabel('Hours Studied')  \n",
    "plt.ylabel('Percentage Score')  \n",
    "plt.show()"
   ]
  },
  {
   "cell_type": "markdown",
   "id": "5479a76d",
   "metadata": {},
   "source": [
    "#from above graph linear relation clearly visible between hour studied and score "
   ]
  },
  {
   "cell_type": "code",
   "execution_count": 6,
   "id": "1b46e20b",
   "metadata": {},
   "outputs": [],
   "source": [
    "#Model training step "
   ]
  },
  {
   "cell_type": "code",
   "execution_count": 7,
   "id": "7279be60",
   "metadata": {},
   "outputs": [],
   "source": [
    "from sklearn.model_selection import train_test_split\n",
    "ss_train, ss_test = train_test_split(stud_data, test_size=0.25)\n"
   ]
  },
  {
   "cell_type": "code",
   "execution_count": 8,
   "id": "6205829e",
   "metadata": {},
   "outputs": [],
   "source": [
    "ss_train_x = ss_train.iloc[:,:-1]\n",
    "ss_train_y = ss_train.iloc[:,-1]"
   ]
  },
  {
   "cell_type": "code",
   "execution_count": 9,
   "id": "37ed0db9",
   "metadata": {},
   "outputs": [],
   "source": [
    "ss_test_x = ss_test.iloc[:,:-1]\n",
    "ss_test_y = ss_test.iloc[:,-1]"
   ]
  },
  {
   "cell_type": "code",
   "execution_count": 10,
   "id": "b7bdd26e",
   "metadata": {},
   "outputs": [],
   "source": [
    "#spliting done "
   ]
  },
  {
   "cell_type": "code",
   "execution_count": 11,
   "id": "1fed4094",
   "metadata": {},
   "outputs": [],
   "source": [
    "#now start builind linear model "
   ]
  },
  {
   "cell_type": "code",
   "execution_count": 12,
   "id": "d4bc00d8",
   "metadata": {},
   "outputs": [],
   "source": [
    "from sklearn.linear_model import LinearRegression"
   ]
  },
  {
   "cell_type": "code",
   "execution_count": 13,
   "id": "f67caf37",
   "metadata": {},
   "outputs": [],
   "source": [
    "lin_ss = LinearRegression()"
   ]
  },
  {
   "cell_type": "code",
   "execution_count": 14,
   "id": "e1626d05",
   "metadata": {},
   "outputs": [
    {
     "data": {
      "text/plain": [
       "LinearRegression()"
      ]
     },
     "execution_count": 14,
     "metadata": {},
     "output_type": "execute_result"
    }
   ],
   "source": [
    "lin_ss.fit(ss_train_x,ss_train_y)"
   ]
  },
  {
   "cell_type": "code",
   "execution_count": 15,
   "id": "0144432f",
   "metadata": {},
   "outputs": [],
   "source": [
    "pred_lin_test = lin_ss.predict(ss_test_x)\n",
    "pred_lin_train = lin_ss.predict(ss_train_x)"
   ]
  },
  {
   "cell_type": "code",
   "execution_count": 16,
   "id": "959911a0",
   "metadata": {},
   "outputs": [],
   "source": [
    "#evalute the Model's accuracy and precision , rsquare "
   ]
  },
  {
   "cell_type": "code",
   "execution_count": 17,
   "id": "35ee2aa2",
   "metadata": {},
   "outputs": [
    {
     "name": "stdout",
     "output_type": "stream",
     "text": [
      "Value of R square is 0.9622638174805406\n"
     ]
    }
   ],
   "source": [
    "Rsqu = lin_ss.score(ss_train_x,ss_train_y)\n",
    "print(\"Value of R square is\", Rsqu)"
   ]
  },
  {
   "cell_type": "code",
   "execution_count": 18,
   "id": "da38c292",
   "metadata": {},
   "outputs": [
    {
     "name": "stdout",
     "output_type": "stream",
     "text": [
      "Adjusted R square value is 0.9599053060730743\n"
     ]
    }
   ],
   "source": [
    "N = ss_train_x.shape[0] #Number of records\n",
    "K = ss_train_x.shape[1] #Number of x variables\n",
    "AdjRsquare = 1 -(1 - Rsqu)*(N-1)/ (N-K-1)\n",
    "print(\"Adjusted R square value is\",AdjRsquare)"
   ]
  },
  {
   "cell_type": "code",
   "execution_count": 19,
   "id": "f6de4757",
   "metadata": {},
   "outputs": [],
   "source": [
    "#Since only one x-variable(independent variable) and one y variable (output variable) \n",
    "#r square and adjusted r-square value are almost same "
   ]
  },
  {
   "cell_type": "code",
   "execution_count": 20,
   "id": "b3913c05",
   "metadata": {},
   "outputs": [
    {
     "data": {
      "text/plain": [
       "16.28654394438668"
      ]
     },
     "execution_count": 20,
     "metadata": {},
     "output_type": "execute_result"
    }
   ],
   "source": [
    "from sklearn.metrics import mean_absolute_error , mean_absolute_percentage_error \n",
    "mean_absolute_percentage_error(ss_test_y , pred_lin_test)*100\n"
   ]
  },
  {
   "cell_type": "code",
   "execution_count": 21,
   "id": "2340a8b7",
   "metadata": {},
   "outputs": [
    {
     "data": {
      "text/plain": [
       "5.751276999010639"
      ]
     },
     "execution_count": 21,
     "metadata": {},
     "output_type": "execute_result"
    }
   ],
   "source": [
    "mean_absolute_error(ss_test_y , pred_lin_test)"
   ]
  },
  {
   "cell_type": "markdown",
   "id": "b67041f8",
   "metadata": {},
   "source": [
    "#evalution metrics wise compilation \n",
    "Value of R square is 0.9622638174805406\n",
    "Adjusted R square value is 0.9599053060730743\n",
    "mean_absolute_error = 5.751276999010639\n"
   ]
  },
  {
   "cell_type": "code",
   "execution_count": 22,
   "id": "c83aad23",
   "metadata": {},
   "outputs": [],
   "source": [
    "#Making Prediction "
   ]
  },
  {
   "cell_type": "code",
   "execution_count": 23,
   "id": "b9cbe3e9",
   "metadata": {},
   "outputs": [
    {
     "name": "stdout",
     "output_type": "stream",
     "text": [
      "    Hours\n",
      "18    6.1\n",
      "14    1.1\n",
      "0     2.5\n",
      "12    4.5\n",
      "4     3.5\n",
      "11    5.9\n",
      "3     8.5\n"
     ]
    }
   ],
   "source": [
    "# Testing data\n",
    "print(ss_test_x)\n",
    "# Model Prediction \n",
    "y_pred = lin_ss.predict(ss_test_x)"
   ]
  },
  {
   "cell_type": "code",
   "execution_count": 24,
   "id": "9407eeb8",
   "metadata": {},
   "outputs": [
    {
     "data": {
      "text/html": [
       "<div>\n",
       "<style scoped>\n",
       "    .dataframe tbody tr th:only-of-type {\n",
       "        vertical-align: middle;\n",
       "    }\n",
       "\n",
       "    .dataframe tbody tr th {\n",
       "        vertical-align: top;\n",
       "    }\n",
       "\n",
       "    .dataframe thead th {\n",
       "        text-align: right;\n",
       "    }\n",
       "</style>\n",
       "<table border=\"1\" class=\"dataframe\">\n",
       "  <thead>\n",
       "    <tr style=\"text-align: right;\">\n",
       "      <th></th>\n",
       "      <th>Actual</th>\n",
       "      <th>Predicted</th>\n",
       "    </tr>\n",
       "  </thead>\n",
       "  <tbody>\n",
       "    <tr>\n",
       "      <th>18</th>\n",
       "      <td>67</td>\n",
       "      <td>63.238337</td>\n",
       "    </tr>\n",
       "    <tr>\n",
       "      <th>14</th>\n",
       "      <td>17</td>\n",
       "      <td>13.753375</td>\n",
       "    </tr>\n",
       "    <tr>\n",
       "      <th>0</th>\n",
       "      <td>21</td>\n",
       "      <td>27.609165</td>\n",
       "    </tr>\n",
       "    <tr>\n",
       "      <th>12</th>\n",
       "      <td>41</td>\n",
       "      <td>47.403150</td>\n",
       "    </tr>\n",
       "    <tr>\n",
       "      <th>4</th>\n",
       "      <td>30</td>\n",
       "      <td>37.506157</td>\n",
       "    </tr>\n",
       "    <tr>\n",
       "      <th>11</th>\n",
       "      <td>62</td>\n",
       "      <td>61.258939</td>\n",
       "    </tr>\n",
       "    <tr>\n",
       "      <th>3</th>\n",
       "      <td>75</td>\n",
       "      <td>86.991119</td>\n",
       "    </tr>\n",
       "  </tbody>\n",
       "</table>\n",
       "</div>"
      ],
      "text/plain": [
       "    Actual  Predicted\n",
       "18      67  63.238337\n",
       "14      17  13.753375\n",
       "0       21  27.609165\n",
       "12      41  47.403150\n",
       "4       30  37.506157\n",
       "11      62  61.258939\n",
       "3       75  86.991119"
      ]
     },
     "execution_count": 24,
     "metadata": {},
     "output_type": "execute_result"
    }
   ],
   "source": [
    "#compare actual vs. predicted\n",
    "df = pd.DataFrame({'Actual': ss_test_y , 'Predicted': y_pred}) \n",
    "df "
   ]
  },
  {
   "cell_type": "code",
   "execution_count": 25,
   "id": "68b584eb",
   "metadata": {},
   "outputs": [
    {
     "data": {
      "image/png": "[encoded data removed]",
      "text/plain": [
       "<Figure size 360x360 with 1 Axes>"
      ]
     },
     "metadata": {
      "needs_background": "light"
     },
     "output_type": "display_data"
    }
   ],
   "source": [
    "#In graph format actual vs. predicted \n",
    "df.plot(kind='bar',figsize=(5,5))\n",
    "plt.grid(which='major', linewidth='0.5', color='red')\n",
    "plt.grid(which='minor', linewidth='0.5', color='blue')\n",
    "plt.show()"
   ]
  },
  {
   "cell_type": "code",
   "execution_count": 26,
   "id": "5313e51a",
   "metadata": {},
   "outputs": [
    {
     "name": "stdout",
     "output_type": "stream",
     "text": [
      "No of Hours = 9.25\n",
      "Predicted Score = 94.41386370710451\n"
     ]
    }
   ],
   "source": [
    "#testing model with own data \n",
    "hours = 9.25\n",
    "test = np.array([hours])\n",
    "test = test.reshape(-1, 1)\n",
    "own_pred = lin_ss.predict(test)\n",
    "print(\"No of Hours = {}\".format(hours))\n",
    "print(\"Predicted Score = {}\".format(own_pred[0]))"
   ]
  },
  {
   "cell_type": "code",
   "execution_count": null,
   "id": "6391c432",
   "metadata": {},
   "outputs": [],
   "source": [
    "Conclusion : Successfully build Prediction model using Supervised Machine Learning was able to evaluate the model's performance on various parameters."
   ]
  }
 ],
 "metadata": {
  "kernelspec": {
   "display_name": "Python 3 (ipykernel)",
   "language": "python",
   "name": "python3"
  },
  "language_info": {
   "codemirror_mode": {
    "name": "ipython",
    "version": 3
   },
   "file_extension": ".py",
   "mimetype": "text/x-python",
   "name": "python",
   "nbconvert_exporter": "python",
   "pygments_lexer": "ipython3",
   "version": "3.9.7"
  }
 },
 "nbformat": 4,
 "nbformat_minor": 5
}
